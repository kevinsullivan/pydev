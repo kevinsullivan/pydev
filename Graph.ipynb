{
 "cells": [
  {
   "cell_type": "markdown",
   "metadata": {},
   "source": [
    "# Read This Introduction\n",
    "\n",
    "You're looking at Python in a Jupyter Notebook. Learn how to use Python in Jupyter notebooks here: https://code.visualstudio.com/docs/datascience/jupyter-notebooks. The rest of this notebook replicates the Python code in the Graph.py program. Click the Run All button, above, to run this notebook. The graph will then be displayed at the bottom of this notebook.\n"
   ]
  },
  {
   "cell_type": "markdown",
   "metadata": {},
   "source": [
    "# Import libraries\n"
   ]
  },
  {
   "cell_type": "code",
   "execution_count": null,
   "metadata": {},
   "outputs": [],
   "source": [
    "import pandas as pd\n",
    "import seaborn as sns\n",
    "import matplotlib.pyplot as plt"
   ]
  },
  {
   "cell_type": "markdown",
   "metadata": {},
   "source": [
    "# Read Data from CSV File\n"
   ]
  },
  {
   "cell_type": "code",
   "execution_count": null,
   "metadata": {},
   "outputs": [],
   "source": [
    "# Use Pandas to read CSV file into a data frame\n",
    "# Extract month (x) and profit (y) data into separate series\n",
    "df = pd.read_csv(\"data.csv\")\n",
    "month = df[\"month\"]\n",
    "profit = df[\"profit\"]"
   ]
  },
  {
   "cell_type": "markdown",
   "metadata": {},
   "source": [
    "# Activate Data Wrangler Extension\n",
    "\n",
    "By using a routine that outputs some of the data, here df.head(), which displays a few rows of the data frame, we also activate the data wrangler extension. To run it, just click on the Launch button displayed just before the data frame preview. When you're ready, you can learn more about the Data Wrangler extension from the tutorial video at https://www.youtube.com/watch?v=KrzcV1c1W1U."
   ]
  },
  {
   "cell_type": "code",
   "execution_count": null,
   "metadata": {},
   "outputs": [],
   "source": [
    "df.head()"
   ]
  },
  {
   "cell_type": "markdown",
   "metadata": {},
   "source": [
    "# Create and Display Seaborn Scatter Plot\n"
   ]
  },
  {
   "cell_type": "code",
   "execution_count": null,
   "metadata": {},
   "outputs": [],
   "source": [
    "# Use default Seaborn theme\n",
    "# Create Seaborn scatter plot with months on x- and profits on y-axis\n",
    "# Seaborn uses matplotlib, which we call finally to display the plot\n",
    "# See https://seaborn.pydata.org/generated/seaborn.scatterplot.html\n",
    "sns.set_theme()\n",
    "sns.scatterplot(x=month, y=profit)\n",
    "plt.show()"
   ]
  }
 ],
 "metadata": {
  "kernelspec": {
   "display_name": "Python 3",
   "language": "python",
   "name": "python3"
  },
  "language_info": {
   "codemirror_mode": {
    "name": "ipython",
    "version": 3
   },
   "file_extension": ".py",
   "mimetype": "text/x-python",
   "name": "python",
   "nbconvert_exporter": "python",
   "pygments_lexer": "ipython3",
   "version": "3.11.5"
  },
  "orig_nbformat": 4
 },
 "nbformat": 4,
 "nbformat_minor": 2
}
